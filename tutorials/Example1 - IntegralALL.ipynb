{
 "cells": [
  {
   "cell_type": "markdown",
   "id": "2712e2e9",
   "metadata": {},
   "source": [
    "# IntegralALL\n",
    "## Legacy fortran routines in python for numerical integration"
   ]
  },
  {
   "cell_type": "code",
   "execution_count": 1,
   "id": "6aa5ea7b",
   "metadata": {},
   "outputs": [],
   "source": [
    "# Import standard libraries in python\n",
    "import numpy as np\n",
    "import matplotlib.pyplot as plt\n",
    "\n",
    "# Import numerical integration libraries\n",
    "from pyintegralall import flib\n",
    "from pyintegralall.PyIntegralALL import PyIntegralALL_class"
   ]
  },
  {
   "cell_type": "code",
   "execution_count": 2,
   "id": "a344df1e",
   "metadata": {},
   "outputs": [
    {
     "name": "stdout",
     "output_type": "stream",
     "text": [
      "This module 'flib' is auto-generated with f2py (version:1.21.5).\n",
      "Functions:\n",
      "  yy_value,ilastval,iskeepon = lininterpol(xx_value,xold_vec,yold_vec,ilastval,verbosity=)\n",
      "  a = author_linterpol()\n",
      "  z = gausslegendrequadrature(x,y,a,b,n_int=20)\n",
      "  a = author_gausslegendrequadrature()\n",
      "  integralall,iskeepon = integralall(sxvalues,syvalues,lambda_i,lambda_f,int_type=2,verbosity=0)\n",
      "Fortran 90/95 modules:\n",
      "  moddatatype --- ib,sp,rp,lb,qp,ch,st,ec.\n"
     ]
    }
   ],
   "source": [
    "# Libraries\n",
    "print(flib.__doc__)"
   ]
  },
  {
   "cell_type": "code",
   "execution_count": 3,
   "id": "b8842e4b",
   "metadata": {},
   "outputs": [
    {
     "name": "stdout",
     "output_type": "stream",
     "text": [
      "integralall,iskeepon = integralall(sxvalues,syvalues,lambda_i,lambda_f,[int_type,verbosity])\n",
      "\n",
      "Wrapper for ``integralall``.\n",
      "\n",
      "Parameters\n",
      "----------\n",
      "sxvalues : input rank-1 array('d') with bounds (n_lambda)\n",
      "syvalues : input rank-1 array('d') with bounds (n_lambda)\n",
      "lambda_i : input float\n",
      "lambda_f : input float\n",
      "\n",
      "Other Parameters\n",
      "----------------\n",
      "int_type : input int, optional\n",
      "    Default: 2\n",
      "verbosity : input int, optional\n",
      "    Default: 0\n",
      "\n",
      "Returns\n",
      "-------\n",
      "integralall : float\n",
      "iskeepon : int\n",
      "\n"
     ]
    }
   ],
   "source": [
    "# Numerical integration library\n",
    "print(flib.integralall.__doc__)"
   ]
  },
  {
   "cell_type": "code",
   "execution_count": 4,
   "id": "8b594cfe",
   "metadata": {},
   "outputs": [
    {
     "name": "stdout",
     "output_type": "stream",
     "text": [
      "'Created on \n",
      "Last version on Wed Sep 23 14:33:51 2020\n",
      "\n",
      "@author: Jean Gomes Copyright (c)\n",
      "\n"
     ]
    }
   ],
   "source": [
    "# Python class\n",
    "print(PyIntegralALL_class.__doc__)"
   ]
  },
  {
   "cell_type": "code",
   "execution_count": 5,
   "id": "e689034c",
   "metadata": {},
   "outputs": [],
   "source": [
    "# Import astropy\n",
    "from astropy.io import fits\n",
    "from astropy import units as u\n",
    "from astropy.visualization import quantity_support"
   ]
  },
  {
   "cell_type": "code",
   "execution_count": 6,
   "id": "475e4a12",
   "metadata": {},
   "outputs": [],
   "source": [
    "# Example of a slice of a SDSS spectrum\n",
    "f = fits.open('https://data.sdss.org/sas/dr16/sdss/spectro/redux/26/spectra/1323/spec-1323-52797-0012.fits')  \n",
    "\n",
    "# The spectrum is in the second HDU of this file.\n",
    "specdata = f[1].data[1020:1250] \n",
    "f.close()"
   ]
  },
  {
   "cell_type": "code",
   "execution_count": 7,
   "id": "5fb54dd1",
   "metadata": {},
   "outputs": [],
   "source": [
    "# Import specutils to convert format\n",
    "from specutils import Spectrum1D\n",
    "\n",
    "lamb = 10**specdata['loglam'] * u.AA \n",
    "flux = specdata['flux'] * 10**-17 * u.Unit('erg cm-2 s-1 AA-1') \n",
    "input_spec = Spectrum1D(spectral_axis=lamb, flux=flux)"
   ]
  },
  {
   "cell_type": "code",
   "execution_count": 8,
   "id": "70ea5e57",
   "metadata": {},
   "outputs": [
    {
     "data": {
      "text/plain": [
       "[<matplotlib.lines.Line2D at 0x7f933c59bc70>]"
      ]
     },
     "execution_count": 8,
     "metadata": {},
     "output_type": "execute_result"
    },
    {
     "data": {
      "image/png": "[encoded data removed]",
      "text/plain": [
       "<Figure size 432x288 with 1 Axes>"
      ]
     },
     "metadata": {
      "needs_background": "light"
     },
     "output_type": "display_data"
    }
   ],
   "source": [
    "# Plot spectrum\n",
    "plt.plot(lamb,flux)"
   ]
  },
  {
   "cell_type": "code",
   "execution_count": 9,
   "id": "8187d206",
   "metadata": {},
   "outputs": [
    {
     "name": "stdout",
     "output_type": "stream",
     "text": [
      "Integral of spectrum in the available range 5.59925e-13 erg / (Angstrom cm2 s)\n"
     ]
    }
   ],
   "source": [
    "# Now integrate numerically spectrum over the available range\n",
    "\n",
    "lambda_i = lamb[0].value\n",
    "lambda_f = lamb[-1].value\n",
    "A_fortran,iskeepon = flib.integralall( lamb,flux,lambda_i,lambda_f )\n",
    "print(\"Integral of spectrum in the available range {0:10.6g} {1:}\".format(A_fortran,flux.unit))"
   ]
  },
  {
   "cell_type": "markdown",
   "id": "dd1b3ead",
   "metadata": {},
   "source": [
    "### The default method is trapezium, but one may choose:\n",
    "<p>\n",
    "<table>\n",
    "<tr><td>Int_Type</td><td>Type</td><td>Description</td></tr>\n",
    "<tr><td>0<td>R</td><td>Right rectangle Integral  </td></tr>\n",
    "<tr><td>1<td>L</td><td>Left rectangle Integral   </td></tr>\n",
    "<tr><td>2<td>T</td><td>Trapezoidal rule          </td></tr>\n",
    "<tr><td>3<td>S</td><td>Simple Integral           </td></tr>\n",
    "<tr><td>4<td>M</td><td>Median rectangle Integral </td></tr>\n",
    "<tr><td>5<td>I</td><td>Simpsonregel's rule       </td></tr>\n",
    "<tr><td>6<td>G</td><td>Gauss-Legendre Quadrature </td></tr>\n",
    "</table>"
   ]
  },
  {
   "cell_type": "code",
   "execution_count": 10,
   "id": "40d81d9f",
   "metadata": {},
   "outputs": [
    {
     "name": "stdout",
     "output_type": "stream",
     "text": [
      "int_type: 0 | Area: 5.60068e-13\n",
      "int_type: 1 | Area: 5.59781e-13\n",
      "int_type: 2 | Area: 5.59925e-13\n",
      "int_type: 3 | Area: 5.62433e-13\n",
      "int_type: 4 | Area: 5.59925e-13\n",
      "int_type: 5 | Area: 5.59925e-13\n",
      "int_type: 6 | Area: 5.54119e-13\n"
     ]
    }
   ],
   "source": [
    "# Let us compare the results\n",
    "\n",
    "lambda_i = lamb[0].value\n",
    "lambda_f = lamb[-1].value\n",
    "for int_type in range(0,7):    \n",
    "    A_fortran,iskeepon = flib.integralall( lamb,flux,lambda_i,lambda_f, int_type=int_type )\n",
    "    print(\"int_type: {0:} | Area: {1:10.6g}\".format(int_type,A_fortran))"
   ]
  },
  {
   "cell_type": "code",
   "execution_count": 11,
   "id": "cb8a1f2e",
   "metadata": {},
   "outputs": [
    {
     "name": "stdout",
     "output_type": "stream",
     "text": [
      "Numpy Trapezium | Area: 5.59925e-13 erg / (cm2 s)\n"
     ]
    }
   ],
   "source": [
    "# We can also compare with traditional numpy trapezium\n",
    "A_numpy = np.trapz( flux,x=lamb )\n",
    "print(\"Numpy Trapezium | Area: {0:10.6g}\".format(A_numpy))"
   ]
  },
  {
   "cell_type": "code",
   "execution_count": 12,
   "id": "3337de25",
   "metadata": {},
   "outputs": [
    {
     "name": "stdout",
     "output_type": "stream",
     "text": [
      "... Integration from lambda_i: 4825.0302734375 to lambda_f: 5086.27587890625 \n",
      "Area: 5.59925e-13\n",
      "    [IntegralALL]\n",
      "    T-> Integral\n",
      "           1       1       0       0\n",
      "    ... SIntegra: 0.559925E-12\n",
      "    [IntegralALL]\n"
     ]
    }
   ],
   "source": [
    "# We can also call the class PyIntegralALL_class\n",
    "i_object = PyIntegralALL_class( lamb.value,flux.value, int_type=2, verbosity=1 )\n",
    "print(\"Area: {0:10.6g}\".format(i_object.integralall))"
   ]
  }
 ],
 "metadata": {
  "kernelspec": {
   "display_name": "Python 3",
   "language": "python",
   "name": "python3"
  },
  "language_info": {
   "codemirror_mode": {
    "name": "ipython",
    "version": 3
   },
   "file_extension": ".py",
   "mimetype": "text/x-python",
   "name": "python",
   "nbconvert_exporter": "python",
   "pygments_lexer": "ipython3",
   "version": "3.9.12"
  }
 },
 "nbformat": 4,
 "nbformat_minor": 5
}
